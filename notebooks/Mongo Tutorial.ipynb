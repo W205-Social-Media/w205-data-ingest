{
 "cells": [
  {
   "cell_type": "markdown",
   "metadata": {},
   "source": [
    "## Queries in shell or mongo script"
   ]
  },
  {
   "cell_type": "code",
   "execution_count": null,
   "metadata": {
    "collapsed": true
   },
   "outputs": [],
   "source": [
    "%%javascript \n",
    "\n",
    "// -----  BASICS  -----\n",
    "// Count number of documents in collection\n",
    "db.getCollection('facebook').count()\n",
    "db.getCollection('twitter').count()\n",
    "\n",
    "// find and findOne\n",
    "db.getCollection('twitter').find({}).limit(5)\n",
    "db.getCollection('twitter').findOne({})\n",
    "\n",
    "// -----  FILTER FOR VIDEO  -----\n",
    "// What tweets have videos?\n",
    "db.getCollection('twitter').find(\n",
    "    { 'tweet.extended_entities': {$exists : true}, \n",
    "      'tweet.extended_entities.media.type' : 'video'})\n",
    "\n",
    "// Count tweets with video\n",
    "db.getCollection('twitter').find(\n",
    "    { 'tweet.extended_entities': {$exists : true}, \n",
    "      'tweet.extended_entities.media.type' : 'video'}).count()\n",
    "\n",
    "// -----  FILTER RESPONSE  -----\n",
    "// Filter tweets and return specific fields\n",
    "db.getCollection('twitter').find(\n",
    "    {\n",
    "        // Filter tweets that have video\n",
    "        'tweet.extended_entities': {$exists : true}, \n",
    "        'tweet.extended_entities.media.type' : 'video'\n",
    "    },\n",
    "    {\n",
    "        // What to keep\n",
    "        'tweet.text':1,\n",
    "        'tweet.id' : 1,\n",
    "        'tweet.retweeted':1,\n",
    "        'tweet.retweet_count': 1,\n",
    "        'tweet.hashtags.text':1,\n",
    "        'tweet.geo':1,\n",
    "        'tweet.extended_entities.media.expanded_url' : 1,\n",
    "        'tweet.extended_entities.media.display_url' : 1,\n",
    "        'tweet.extended_entities.media.source_user_id_str' : 1,\n",
    "        'tweet.extended_entities.media.video_info' : 1,\n",
    "        'tweet.extended_entities.media.id_str' : 1,\n",
    "        'tweet.extended_entities.media.id' : 1,\n",
    "        'tweet.extended_entities.media.media_url' : 1,\n",
    "        'created_at' :1\n",
    "        \n",
    "    }\n",
    ")\n"
   ]
  },
  {
   "cell_type": "code",
   "execution_count": null,
   "metadata": {
    "collapsed": true
   },
   "outputs": [],
   "source": [
    "%%javascript\n",
    "// -----  SAVE RESULT TO NEW COLLECTION  -----\n",
    "var query = db.getCollection('twitter').find(\n",
    "    {\n",
    "        // Filter tweets that have video\n",
    "        'tweet.extended_entities': {$exists : true}, \n",
    "        'tweet.extended_entities.media.type' : 'video'\n",
    "    },\n",
    "    {\n",
    "        // What to keep\n",
    "        'tweet.text':1,\n",
    "        'tweet.id' : 1,\n",
    "        'tweet.retweeted':1,\n",
    "        'tweet.retweet_count': 1,\n",
    "        'tweet.hashtags.text':1,\n",
    "        'tweet.geo':1,\n",
    "        'tweet.extended_entities.media.expanded_url' : 1,\n",
    "        'tweet.extended_entities.media.display_url' : 1,\n",
    "        'tweet.extended_entities.media.source_user_id_str' : 1,\n",
    "        'tweet.extended_entities.media.video_info' : 1,\n",
    "        'tweet.extended_entities.media.id_str' : 1,\n",
    "        'tweet.extended_entities.media.id' : 1,\n",
    "        'tweet.extended_entities.media.media_url' : 1,\n",
    "        'created_at' :1\n",
    "        \n",
    "    }\n",
    ").toArray()\n",
    "\n",
    "db.results.insert(query)"
   ]
  },
  {
   "cell_type": "markdown",
   "metadata": {},
   "source": [
    "## Delete Collection"
   ]
  },
  {
   "cell_type": "code",
   "execution_count": null,
   "metadata": {
    "collapsed": true
   },
   "outputs": [],
   "source": [
    "db.results.drop()"
   ]
  },
  {
   "cell_type": "markdown",
   "metadata": {},
   "source": [
    "## Create script and run it from the command line"
   ]
  },
  {
   "cell_type": "code",
   "execution_count": null,
   "metadata": {
    "collapsed": true
   },
   "outputs": [],
   "source": [
    "%%javascript\n",
    "\n",
    "// Create connection\n",
    "var conn = new Mongo();\n",
    "db = conn.getDB(\"test\");\n",
    "\n",
    "// Define query (same as robomongo)\n",
    "var query = db.getCollection('twitter').find(\n",
    "    {\n",
    "        // Filter tweets that have video\n",
    "        'tweet.extended_entities': {$exists : true}, \n",
    "        'tweet.extended_entities.media.type' : 'video'\n",
    "    },\n",
    "    {\n",
    "        // What to keep\n",
    "        'tweet.text':1,\n",
    "        'tweet.id' : 1,\n",
    "        'tweet.retweeted':1,\n",
    "        'tweet.retweet_count': 1,\n",
    "        'tweet.hashtags.text':1,\n",
    "        'tweet.geo':1,\n",
    "        'tweet.extended_entities.media.expanded_url' : 1,\n",
    "        'tweet.extended_entities.media.display_url' : 1,\n",
    "        'tweet.extended_entities.media.source_user_id_str' : 1,\n",
    "        'tweet.extended_entities.media.video_info' : 1,\n",
    "        'tweet.extended_entities.media.id_str' : 1,\n",
    "        'tweet.extended_entities.media.id' : 1,\n",
    "        'tweet.extended_entities.media.media_url' : 1,\n",
    "        'created_at' :1\n",
    "        \n",
    "    }\n",
    ").toArray()\n",
    "\n",
    "// Save query to 'results' collection\n",
    "db.results.insert(query)"
   ]
  },
  {
   "cell_type": "markdown",
   "metadata": {},
   "source": [
    "### Command line"
   ]
  },
  {
   "cell_type": "code",
   "execution_count": null,
   "metadata": {
    "collapsed": true
   },
   "outputs": [],
   "source": [
    "mongo filter_example.js"
   ]
  }
 ],
 "metadata": {
  "kernelspec": {
   "display_name": "Python 2",
   "language": "python",
   "name": "python2"
  },
  "language_info": {
   "codemirror_mode": {
    "name": "ipython",
    "version": 2
   },
   "file_extension": ".py",
   "mimetype": "text/x-python",
   "name": "python",
   "nbconvert_exporter": "python",
   "pygments_lexer": "ipython2",
   "version": "2.7.11"
  }
 },
 "nbformat": 4,
 "nbformat_minor": 0
}
